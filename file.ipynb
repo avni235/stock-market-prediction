{
 "cells": [
  {
   "cell_type": "code",
   "execution_count": 1,
   "id": "d40afbd9",
   "metadata": {},
   "outputs": [],
   "source": [
    "import pandas as pd\n",
    "import numpy as np\n",
    "import matplotlib.pyplot as plt\n",
    "import tensorflow as tf\n",
    "from sklearn.preprocessing import MinMaxScaler"
   ]
  },
  {
   "cell_type": "markdown",
   "id": "be779433",
   "metadata": {},
   "source": [
    "# read data"
   ]
  },
  {
   "cell_type": "code",
   "execution_count": 2,
   "id": "b82385da",
   "metadata": {},
   "outputs": [
    {
     "data": {
      "text/html": [
       "<div>\n",
       "<style scoped>\n",
       "    .dataframe tbody tr th:only-of-type {\n",
       "        vertical-align: middle;\n",
       "    }\n",
       "\n",
       "    .dataframe tbody tr th {\n",
       "        vertical-align: top;\n",
       "    }\n",
       "\n",
       "    .dataframe thead th {\n",
       "        text-align: right;\n",
       "    }\n",
       "</style>\n",
       "<table border=\"1\" class=\"dataframe\">\n",
       "  <thead>\n",
       "    <tr style=\"text-align: right;\">\n",
       "      <th></th>\n",
       "      <th>Date</th>\n",
       "      <th>Open</th>\n",
       "      <th>High</th>\n",
       "      <th>Low</th>\n",
       "      <th>Last</th>\n",
       "      <th>Close</th>\n",
       "      <th>Total Trade Quantity</th>\n",
       "      <th>Turnover (Lacs)</th>\n",
       "    </tr>\n",
       "  </thead>\n",
       "  <tbody>\n",
       "    <tr>\n",
       "      <th>0</th>\n",
       "      <td>2018-09-28</td>\n",
       "      <td>234.05</td>\n",
       "      <td>235.95</td>\n",
       "      <td>230.20</td>\n",
       "      <td>233.50</td>\n",
       "      <td>233.75</td>\n",
       "      <td>3069914</td>\n",
       "      <td>7162.35</td>\n",
       "    </tr>\n",
       "    <tr>\n",
       "      <th>1</th>\n",
       "      <td>2018-09-27</td>\n",
       "      <td>234.55</td>\n",
       "      <td>236.80</td>\n",
       "      <td>231.10</td>\n",
       "      <td>233.80</td>\n",
       "      <td>233.25</td>\n",
       "      <td>5082859</td>\n",
       "      <td>11859.95</td>\n",
       "    </tr>\n",
       "    <tr>\n",
       "      <th>2</th>\n",
       "      <td>2018-09-26</td>\n",
       "      <td>240.00</td>\n",
       "      <td>240.00</td>\n",
       "      <td>232.50</td>\n",
       "      <td>235.00</td>\n",
       "      <td>234.25</td>\n",
       "      <td>2240909</td>\n",
       "      <td>5248.60</td>\n",
       "    </tr>\n",
       "    <tr>\n",
       "      <th>3</th>\n",
       "      <td>2018-09-25</td>\n",
       "      <td>233.30</td>\n",
       "      <td>236.75</td>\n",
       "      <td>232.00</td>\n",
       "      <td>236.25</td>\n",
       "      <td>236.10</td>\n",
       "      <td>2349368</td>\n",
       "      <td>5503.90</td>\n",
       "    </tr>\n",
       "    <tr>\n",
       "      <th>4</th>\n",
       "      <td>2018-09-24</td>\n",
       "      <td>233.55</td>\n",
       "      <td>239.20</td>\n",
       "      <td>230.75</td>\n",
       "      <td>234.00</td>\n",
       "      <td>233.30</td>\n",
       "      <td>3423509</td>\n",
       "      <td>7999.55</td>\n",
       "    </tr>\n",
       "  </tbody>\n",
       "</table>\n",
       "</div>"
      ],
      "text/plain": [
       "         Date    Open    High     Low    Last   Close  Total Trade Quantity  \\\n",
       "0  2018-09-28  234.05  235.95  230.20  233.50  233.75               3069914   \n",
       "1  2018-09-27  234.55  236.80  231.10  233.80  233.25               5082859   \n",
       "2  2018-09-26  240.00  240.00  232.50  235.00  234.25               2240909   \n",
       "3  2018-09-25  233.30  236.75  232.00  236.25  236.10               2349368   \n",
       "4  2018-09-24  233.55  239.20  230.75  234.00  233.30               3423509   \n",
       "\n",
       "   Turnover (Lacs)  \n",
       "0          7162.35  \n",
       "1         11859.95  \n",
       "2          5248.60  \n",
       "3          5503.90  \n",
       "4          7999.55  "
      ]
     },
     "execution_count": 2,
     "metadata": {},
     "output_type": "execute_result"
    }
   ],
   "source": [
    "df=pd.read_csv(\"stock.csv\")\n",
    "df.head()"
   ]
  },
  {
   "cell_type": "code",
   "execution_count": 3,
   "id": "39705ca9",
   "metadata": {},
   "outputs": [
    {
     "data": {
      "text/html": [
       "<div>\n",
       "<style scoped>\n",
       "    .dataframe tbody tr th:only-of-type {\n",
       "        vertical-align: middle;\n",
       "    }\n",
       "\n",
       "    .dataframe tbody tr th {\n",
       "        vertical-align: top;\n",
       "    }\n",
       "\n",
       "    .dataframe thead th {\n",
       "        text-align: right;\n",
       "    }\n",
       "</style>\n",
       "<table border=\"1\" class=\"dataframe\">\n",
       "  <thead>\n",
       "    <tr style=\"text-align: right;\">\n",
       "      <th></th>\n",
       "      <th>Date</th>\n",
       "      <th>Open</th>\n",
       "      <th>High</th>\n",
       "      <th>Low</th>\n",
       "      <th>Last</th>\n",
       "      <th>Close</th>\n",
       "      <th>Total Trade Quantity</th>\n",
       "      <th>Turnover (Lacs)</th>\n",
       "    </tr>\n",
       "  </thead>\n",
       "  <tbody>\n",
       "    <tr>\n",
       "      <th>2030</th>\n",
       "      <td>2010-07-27</td>\n",
       "      <td>117.6</td>\n",
       "      <td>119.50</td>\n",
       "      <td>112.00</td>\n",
       "      <td>118.80</td>\n",
       "      <td>118.65</td>\n",
       "      <td>586100</td>\n",
       "      <td>694.98</td>\n",
       "    </tr>\n",
       "    <tr>\n",
       "      <th>2031</th>\n",
       "      <td>2010-07-26</td>\n",
       "      <td>120.1</td>\n",
       "      <td>121.00</td>\n",
       "      <td>117.10</td>\n",
       "      <td>117.10</td>\n",
       "      <td>117.60</td>\n",
       "      <td>658440</td>\n",
       "      <td>780.01</td>\n",
       "    </tr>\n",
       "    <tr>\n",
       "      <th>2032</th>\n",
       "      <td>2010-07-23</td>\n",
       "      <td>121.8</td>\n",
       "      <td>121.95</td>\n",
       "      <td>120.25</td>\n",
       "      <td>120.35</td>\n",
       "      <td>120.65</td>\n",
       "      <td>281312</td>\n",
       "      <td>340.31</td>\n",
       "    </tr>\n",
       "    <tr>\n",
       "      <th>2033</th>\n",
       "      <td>2010-07-22</td>\n",
       "      <td>120.3</td>\n",
       "      <td>122.00</td>\n",
       "      <td>120.25</td>\n",
       "      <td>120.75</td>\n",
       "      <td>120.90</td>\n",
       "      <td>293312</td>\n",
       "      <td>355.17</td>\n",
       "    </tr>\n",
       "    <tr>\n",
       "      <th>2034</th>\n",
       "      <td>2010-07-21</td>\n",
       "      <td>122.1</td>\n",
       "      <td>123.00</td>\n",
       "      <td>121.05</td>\n",
       "      <td>121.10</td>\n",
       "      <td>121.55</td>\n",
       "      <td>658666</td>\n",
       "      <td>803.56</td>\n",
       "    </tr>\n",
       "  </tbody>\n",
       "</table>\n",
       "</div>"
      ],
      "text/plain": [
       "            Date   Open    High     Low    Last   Close  Total Trade Quantity  \\\n",
       "2030  2010-07-27  117.6  119.50  112.00  118.80  118.65                586100   \n",
       "2031  2010-07-26  120.1  121.00  117.10  117.10  117.60                658440   \n",
       "2032  2010-07-23  121.8  121.95  120.25  120.35  120.65                281312   \n",
       "2033  2010-07-22  120.3  122.00  120.25  120.75  120.90                293312   \n",
       "2034  2010-07-21  122.1  123.00  121.05  121.10  121.55                658666   \n",
       "\n",
       "      Turnover (Lacs)  \n",
       "2030           694.98  \n",
       "2031           780.01  \n",
       "2032           340.31  \n",
       "2033           355.17  \n",
       "2034           803.56  "
      ]
     },
     "execution_count": 3,
     "metadata": {},
     "output_type": "execute_result"
    }
   ],
   "source": [
    "df.tail()"
   ]
  },
  {
   "cell_type": "markdown",
   "id": "a140b512",
   "metadata": {},
   "source": [
    "# # statistics about data"
   ]
  },
  {
   "cell_type": "code",
   "execution_count": 4,
   "id": "ad0998cb",
   "metadata": {},
   "outputs": [
    {
     "data": {
      "text/html": [
       "<div>\n",
       "<style scoped>\n",
       "    .dataframe tbody tr th:only-of-type {\n",
       "        vertical-align: middle;\n",
       "    }\n",
       "\n",
       "    .dataframe tbody tr th {\n",
       "        vertical-align: top;\n",
       "    }\n",
       "\n",
       "    .dataframe thead th {\n",
       "        text-align: right;\n",
       "    }\n",
       "</style>\n",
       "<table border=\"1\" class=\"dataframe\">\n",
       "  <thead>\n",
       "    <tr style=\"text-align: right;\">\n",
       "      <th></th>\n",
       "      <th>Open</th>\n",
       "      <th>High</th>\n",
       "      <th>Low</th>\n",
       "      <th>Last</th>\n",
       "      <th>Close</th>\n",
       "      <th>Total Trade Quantity</th>\n",
       "      <th>Turnover (Lacs)</th>\n",
       "    </tr>\n",
       "  </thead>\n",
       "  <tbody>\n",
       "    <tr>\n",
       "      <th>count</th>\n",
       "      <td>2035.000000</td>\n",
       "      <td>2035.000000</td>\n",
       "      <td>2035.000000</td>\n",
       "      <td>2035.000000</td>\n",
       "      <td>2035.00000</td>\n",
       "      <td>2.035000e+03</td>\n",
       "      <td>2035.000000</td>\n",
       "    </tr>\n",
       "    <tr>\n",
       "      <th>mean</th>\n",
       "      <td>149.713735</td>\n",
       "      <td>151.992826</td>\n",
       "      <td>147.293931</td>\n",
       "      <td>149.474251</td>\n",
       "      <td>149.45027</td>\n",
       "      <td>2.335681e+06</td>\n",
       "      <td>3899.980565</td>\n",
       "    </tr>\n",
       "    <tr>\n",
       "      <th>std</th>\n",
       "      <td>48.664509</td>\n",
       "      <td>49.413109</td>\n",
       "      <td>47.931958</td>\n",
       "      <td>48.732570</td>\n",
       "      <td>48.71204</td>\n",
       "      <td>2.091778e+06</td>\n",
       "      <td>4570.767877</td>\n",
       "    </tr>\n",
       "    <tr>\n",
       "      <th>min</th>\n",
       "      <td>81.100000</td>\n",
       "      <td>82.800000</td>\n",
       "      <td>80.000000</td>\n",
       "      <td>81.000000</td>\n",
       "      <td>80.95000</td>\n",
       "      <td>3.961000e+04</td>\n",
       "      <td>37.040000</td>\n",
       "    </tr>\n",
       "    <tr>\n",
       "      <th>25%</th>\n",
       "      <td>120.025000</td>\n",
       "      <td>122.100000</td>\n",
       "      <td>118.300000</td>\n",
       "      <td>120.075000</td>\n",
       "      <td>120.05000</td>\n",
       "      <td>1.146444e+06</td>\n",
       "      <td>1427.460000</td>\n",
       "    </tr>\n",
       "    <tr>\n",
       "      <th>50%</th>\n",
       "      <td>141.500000</td>\n",
       "      <td>143.400000</td>\n",
       "      <td>139.600000</td>\n",
       "      <td>141.100000</td>\n",
       "      <td>141.25000</td>\n",
       "      <td>1.783456e+06</td>\n",
       "      <td>2512.030000</td>\n",
       "    </tr>\n",
       "    <tr>\n",
       "      <th>75%</th>\n",
       "      <td>157.175000</td>\n",
       "      <td>159.400000</td>\n",
       "      <td>155.150000</td>\n",
       "      <td>156.925000</td>\n",
       "      <td>156.90000</td>\n",
       "      <td>2.813594e+06</td>\n",
       "      <td>4539.015000</td>\n",
       "    </tr>\n",
       "    <tr>\n",
       "      <th>max</th>\n",
       "      <td>327.700000</td>\n",
       "      <td>328.750000</td>\n",
       "      <td>321.650000</td>\n",
       "      <td>325.950000</td>\n",
       "      <td>325.75000</td>\n",
       "      <td>2.919102e+07</td>\n",
       "      <td>55755.080000</td>\n",
       "    </tr>\n",
       "  </tbody>\n",
       "</table>\n",
       "</div>"
      ],
      "text/plain": [
       "              Open         High          Low         Last       Close  \\\n",
       "count  2035.000000  2035.000000  2035.000000  2035.000000  2035.00000   \n",
       "mean    149.713735   151.992826   147.293931   149.474251   149.45027   \n",
       "std      48.664509    49.413109    47.931958    48.732570    48.71204   \n",
       "min      81.100000    82.800000    80.000000    81.000000    80.95000   \n",
       "25%     120.025000   122.100000   118.300000   120.075000   120.05000   \n",
       "50%     141.500000   143.400000   139.600000   141.100000   141.25000   \n",
       "75%     157.175000   159.400000   155.150000   156.925000   156.90000   \n",
       "max     327.700000   328.750000   321.650000   325.950000   325.75000   \n",
       "\n",
       "       Total Trade Quantity  Turnover (Lacs)  \n",
       "count          2.035000e+03      2035.000000  \n",
       "mean           2.335681e+06      3899.980565  \n",
       "std            2.091778e+06      4570.767877  \n",
       "min            3.961000e+04        37.040000  \n",
       "25%            1.146444e+06      1427.460000  \n",
       "50%            1.783456e+06      2512.030000  \n",
       "75%            2.813594e+06      4539.015000  \n",
       "max            2.919102e+07     55755.080000  "
      ]
     },
     "execution_count": 4,
     "metadata": {},
     "output_type": "execute_result"
    }
   ],
   "source": [
    "df.describe()"
   ]
  },
  {
   "cell_type": "markdown",
   "id": "502722c2",
   "metadata": {},
   "source": [
    "# # sorting\n"
   ]
  },
  {
   "cell_type": "code",
   "execution_count": 5,
   "id": "79d80815",
   "metadata": {},
   "outputs": [
    {
     "data": {
      "text/html": [
       "<div>\n",
       "<style scoped>\n",
       "    .dataframe tbody tr th:only-of-type {\n",
       "        vertical-align: middle;\n",
       "    }\n",
       "\n",
       "    .dataframe tbody tr th {\n",
       "        vertical-align: top;\n",
       "    }\n",
       "\n",
       "    .dataframe thead th {\n",
       "        text-align: right;\n",
       "    }\n",
       "</style>\n",
       "<table border=\"1\" class=\"dataframe\">\n",
       "  <thead>\n",
       "    <tr style=\"text-align: right;\">\n",
       "      <th></th>\n",
       "      <th>column_name</th>\n",
       "      <th>percentage</th>\n",
       "    </tr>\n",
       "  </thead>\n",
       "  <tbody>\n",
       "    <tr>\n",
       "      <th>0</th>\n",
       "      <td>Date</td>\n",
       "      <td>0.0</td>\n",
       "    </tr>\n",
       "    <tr>\n",
       "      <th>1</th>\n",
       "      <td>Open</td>\n",
       "      <td>0.0</td>\n",
       "    </tr>\n",
       "    <tr>\n",
       "      <th>2</th>\n",
       "      <td>High</td>\n",
       "      <td>0.0</td>\n",
       "    </tr>\n",
       "    <tr>\n",
       "      <th>3</th>\n",
       "      <td>Low</td>\n",
       "      <td>0.0</td>\n",
       "    </tr>\n",
       "    <tr>\n",
       "      <th>4</th>\n",
       "      <td>Last</td>\n",
       "      <td>0.0</td>\n",
       "    </tr>\n",
       "    <tr>\n",
       "      <th>5</th>\n",
       "      <td>Close</td>\n",
       "      <td>0.0</td>\n",
       "    </tr>\n",
       "    <tr>\n",
       "      <th>6</th>\n",
       "      <td>Total Trade Quantity</td>\n",
       "      <td>0.0</td>\n",
       "    </tr>\n",
       "    <tr>\n",
       "      <th>7</th>\n",
       "      <td>Turnover (Lacs)</td>\n",
       "      <td>0.0</td>\n",
       "    </tr>\n",
       "  </tbody>\n",
       "</table>\n",
       "</div>"
      ],
      "text/plain": [
       "            column_name  percentage\n",
       "0                  Date         0.0\n",
       "1                  Open         0.0\n",
       "2                  High         0.0\n",
       "3                   Low         0.0\n",
       "4                  Last         0.0\n",
       "5                 Close         0.0\n",
       "6  Total Trade Quantity         0.0\n",
       "7       Turnover (Lacs)         0.0"
      ]
     },
     "execution_count": 5,
     "metadata": {},
     "output_type": "execute_result"
    }
   ],
   "source": [
    "NAN=[(c,df[c].isnull().mean()*100) for c in df]\n",
    "NAN= pd.DataFrame(NAN,columns=['column_name','percentage'])\n",
    "NAN"
   ]
  },
  {
   "cell_type": "code",
   "execution_count": 6,
   "id": "16e68c1b",
   "metadata": {},
   "outputs": [
    {
     "data": {
      "text/html": [
       "<div>\n",
       "<style scoped>\n",
       "    .dataframe tbody tr th:only-of-type {\n",
       "        vertical-align: middle;\n",
       "    }\n",
       "\n",
       "    .dataframe tbody tr th {\n",
       "        vertical-align: top;\n",
       "    }\n",
       "\n",
       "    .dataframe thead th {\n",
       "        text-align: right;\n",
       "    }\n",
       "</style>\n",
       "<table border=\"1\" class=\"dataframe\">\n",
       "  <thead>\n",
       "    <tr style=\"text-align: right;\">\n",
       "      <th></th>\n",
       "      <th>Date</th>\n",
       "      <th>Open</th>\n",
       "      <th>High</th>\n",
       "      <th>Low</th>\n",
       "      <th>Last</th>\n",
       "      <th>Close</th>\n",
       "      <th>Total Trade Quantity</th>\n",
       "      <th>Turnover (Lacs)</th>\n",
       "    </tr>\n",
       "  </thead>\n",
       "  <tbody>\n",
       "    <tr>\n",
       "      <th>2034</th>\n",
       "      <td>2010-07-21</td>\n",
       "      <td>122.1</td>\n",
       "      <td>123.00</td>\n",
       "      <td>121.05</td>\n",
       "      <td>121.10</td>\n",
       "      <td>121.55</td>\n",
       "      <td>658666</td>\n",
       "      <td>803.56</td>\n",
       "    </tr>\n",
       "    <tr>\n",
       "      <th>2033</th>\n",
       "      <td>2010-07-22</td>\n",
       "      <td>120.3</td>\n",
       "      <td>122.00</td>\n",
       "      <td>120.25</td>\n",
       "      <td>120.75</td>\n",
       "      <td>120.90</td>\n",
       "      <td>293312</td>\n",
       "      <td>355.17</td>\n",
       "    </tr>\n",
       "    <tr>\n",
       "      <th>2032</th>\n",
       "      <td>2010-07-23</td>\n",
       "      <td>121.8</td>\n",
       "      <td>121.95</td>\n",
       "      <td>120.25</td>\n",
       "      <td>120.35</td>\n",
       "      <td>120.65</td>\n",
       "      <td>281312</td>\n",
       "      <td>340.31</td>\n",
       "    </tr>\n",
       "    <tr>\n",
       "      <th>2031</th>\n",
       "      <td>2010-07-26</td>\n",
       "      <td>120.1</td>\n",
       "      <td>121.00</td>\n",
       "      <td>117.10</td>\n",
       "      <td>117.10</td>\n",
       "      <td>117.60</td>\n",
       "      <td>658440</td>\n",
       "      <td>780.01</td>\n",
       "    </tr>\n",
       "    <tr>\n",
       "      <th>2030</th>\n",
       "      <td>2010-07-27</td>\n",
       "      <td>117.6</td>\n",
       "      <td>119.50</td>\n",
       "      <td>112.00</td>\n",
       "      <td>118.80</td>\n",
       "      <td>118.65</td>\n",
       "      <td>586100</td>\n",
       "      <td>694.98</td>\n",
       "    </tr>\n",
       "  </tbody>\n",
       "</table>\n",
       "</div>"
      ],
      "text/plain": [
       "            Date   Open    High     Low    Last   Close  Total Trade Quantity  \\\n",
       "2034  2010-07-21  122.1  123.00  121.05  121.10  121.55                658666   \n",
       "2033  2010-07-22  120.3  122.00  120.25  120.75  120.90                293312   \n",
       "2032  2010-07-23  121.8  121.95  120.25  120.35  120.65                281312   \n",
       "2031  2010-07-26  120.1  121.00  117.10  117.10  117.60                658440   \n",
       "2030  2010-07-27  117.6  119.50  112.00  118.80  118.65                586100   \n",
       "\n",
       "      Turnover (Lacs)  \n",
       "2034           803.56  \n",
       "2033           355.17  \n",
       "2032           340.31  \n",
       "2031           780.01  \n",
       "2030           694.98  "
      ]
     },
     "execution_count": 6,
     "metadata": {},
     "output_type": "execute_result"
    }
   ],
   "source": [
    "srt=df.sort_values(by='Date')\n",
    "srt.head()"
   ]
  },
  {
   "cell_type": "code",
   "execution_count": 7,
   "id": "32e7cefe",
   "metadata": {},
   "outputs": [],
   "source": [
    "srt.reset_index(inplace=True)"
   ]
  },
  {
   "cell_type": "code",
   "execution_count": 8,
   "id": "b7e0918f",
   "metadata": {},
   "outputs": [
    {
     "data": {
      "text/html": [
       "<div>\n",
       "<style scoped>\n",
       "    .dataframe tbody tr th:only-of-type {\n",
       "        vertical-align: middle;\n",
       "    }\n",
       "\n",
       "    .dataframe tbody tr th {\n",
       "        vertical-align: top;\n",
       "    }\n",
       "\n",
       "    .dataframe thead th {\n",
       "        text-align: right;\n",
       "    }\n",
       "</style>\n",
       "<table border=\"1\" class=\"dataframe\">\n",
       "  <thead>\n",
       "    <tr style=\"text-align: right;\">\n",
       "      <th></th>\n",
       "      <th>index</th>\n",
       "      <th>Date</th>\n",
       "      <th>Open</th>\n",
       "      <th>High</th>\n",
       "      <th>Low</th>\n",
       "      <th>Last</th>\n",
       "      <th>Close</th>\n",
       "      <th>Total Trade Quantity</th>\n",
       "      <th>Turnover (Lacs)</th>\n",
       "    </tr>\n",
       "  </thead>\n",
       "  <tbody>\n",
       "    <tr>\n",
       "      <th>0</th>\n",
       "      <td>2034</td>\n",
       "      <td>2010-07-21</td>\n",
       "      <td>122.1</td>\n",
       "      <td>123.00</td>\n",
       "      <td>121.05</td>\n",
       "      <td>121.10</td>\n",
       "      <td>121.55</td>\n",
       "      <td>658666</td>\n",
       "      <td>803.56</td>\n",
       "    </tr>\n",
       "    <tr>\n",
       "      <th>1</th>\n",
       "      <td>2033</td>\n",
       "      <td>2010-07-22</td>\n",
       "      <td>120.3</td>\n",
       "      <td>122.00</td>\n",
       "      <td>120.25</td>\n",
       "      <td>120.75</td>\n",
       "      <td>120.90</td>\n",
       "      <td>293312</td>\n",
       "      <td>355.17</td>\n",
       "    </tr>\n",
       "    <tr>\n",
       "      <th>2</th>\n",
       "      <td>2032</td>\n",
       "      <td>2010-07-23</td>\n",
       "      <td>121.8</td>\n",
       "      <td>121.95</td>\n",
       "      <td>120.25</td>\n",
       "      <td>120.35</td>\n",
       "      <td>120.65</td>\n",
       "      <td>281312</td>\n",
       "      <td>340.31</td>\n",
       "    </tr>\n",
       "    <tr>\n",
       "      <th>3</th>\n",
       "      <td>2031</td>\n",
       "      <td>2010-07-26</td>\n",
       "      <td>120.1</td>\n",
       "      <td>121.00</td>\n",
       "      <td>117.10</td>\n",
       "      <td>117.10</td>\n",
       "      <td>117.60</td>\n",
       "      <td>658440</td>\n",
       "      <td>780.01</td>\n",
       "    </tr>\n",
       "    <tr>\n",
       "      <th>4</th>\n",
       "      <td>2030</td>\n",
       "      <td>2010-07-27</td>\n",
       "      <td>117.6</td>\n",
       "      <td>119.50</td>\n",
       "      <td>112.00</td>\n",
       "      <td>118.80</td>\n",
       "      <td>118.65</td>\n",
       "      <td>586100</td>\n",
       "      <td>694.98</td>\n",
       "    </tr>\n",
       "  </tbody>\n",
       "</table>\n",
       "</div>"
      ],
      "text/plain": [
       "   index        Date   Open    High     Low    Last   Close  \\\n",
       "0   2034  2010-07-21  122.1  123.00  121.05  121.10  121.55   \n",
       "1   2033  2010-07-22  120.3  122.00  120.25  120.75  120.90   \n",
       "2   2032  2010-07-23  121.8  121.95  120.25  120.35  120.65   \n",
       "3   2031  2010-07-26  120.1  121.00  117.10  117.10  117.60   \n",
       "4   2030  2010-07-27  117.6  119.50  112.00  118.80  118.65   \n",
       "\n",
       "   Total Trade Quantity  Turnover (Lacs)  \n",
       "0                658666           803.56  \n",
       "1                293312           355.17  \n",
       "2                281312           340.31  \n",
       "3                658440           780.01  \n",
       "4                586100           694.98  "
      ]
     },
     "execution_count": 8,
     "metadata": {},
     "output_type": "execute_result"
    }
   ],
   "source": [
    "srt.head()"
   ]
  },
  {
   "cell_type": "markdown",
   "id": "017e533d",
   "metadata": {},
   "source": [
    "# Data visualization "
   ]
  },
  {
   "cell_type": "code",
   "execution_count": 9,
   "id": "7175389c",
   "metadata": {},
   "outputs": [
    {
     "data": {
      "text/plain": [
       "[<matplotlib.lines.Line2D at 0x238ed43c1f0>]"
      ]
     },
     "execution_count": 9,
     "metadata": {},
     "output_type": "execute_result"
    },
    {
     "data": {
      "image/png": "[encoded data removed]",
      "text/plain": [
       "<Figure size 1000x700 with 1 Axes>"
      ]
     },
     "metadata": {},
     "output_type": "display_data"
    }
   ],
   "source": [
    "plt.figure(figsize=(10,7))\n",
    "plt.plot(srt['Date'],srt['Close'])"
   ]
  },
  {
   "cell_type": "code",
   "execution_count": 10,
   "id": "da3ddb7c",
   "metadata": {},
   "outputs": [
    {
     "data": {
      "text/plain": [
       "0       121.55\n",
       "1       120.90\n",
       "2       120.65\n",
       "3       117.60\n",
       "4       118.65\n",
       "         ...  \n",
       "2030    233.30\n",
       "2031    236.10\n",
       "2032    234.25\n",
       "2033    233.25\n",
       "2034    233.75\n",
       "Name: Close, Length: 2035, dtype: float64"
      ]
     },
     "execution_count": 10,
     "metadata": {},
     "output_type": "execute_result"
    }
   ],
   "source": [
    "Close_srt = srt['Close']\n",
    "Close_srt"
   ]
  },
  {
   "cell_type": "markdown",
   "id": "9720a964",
   "metadata": {},
   "source": [
    "# Feature scaling(MinMaxscaler)"
   ]
  },
  {
   "cell_type": "code",
   "execution_count": 11,
   "id": "ccabf004",
   "metadata": {},
   "outputs": [
    {
     "data": {
      "text/plain": [
       "array([[0.16584967],\n",
       "       [0.16319444],\n",
       "       [0.1621732 ],\n",
       "       ...,\n",
       "       [0.62622549],\n",
       "       [0.62214052],\n",
       "       [0.62418301]])"
      ]
     },
     "execution_count": 11,
     "metadata": {},
     "output_type": "execute_result"
    }
   ],
   "source": [
    "scaler = MinMaxScaler(feature_range=(0,1))\n",
    "Close_srt = scaler.fit_transform(np.array(Close_srt).reshape(-1,1))\n",
    "Close_srt"
   ]
  },
  {
   "cell_type": "markdown",
   "id": "5a3ee405",
   "metadata": {},
   "source": [
    "# # Splitting and testing\n"
   ]
  },
  {
   "cell_type": "code",
   "execution_count": 12,
   "id": "95af25f3",
   "metadata": {},
   "outputs": [],
   "source": [
    "train_size = int(len(Close_srt)*0.7)\n",
    "test_size = len(Close_srt) - train_size\n",
    "train_data,test_data = Close_srt [0:train_size,:],Close_srt[train_size:len(Close_srt),:1]"
   ]
  },
  {
   "cell_type": "code",
   "execution_count": 13,
   "id": "000880c8",
   "metadata": {},
   "outputs": [
    {
     "data": {
      "text/plain": [
       "(1424, 1)"
      ]
     },
     "execution_count": 13,
     "metadata": {},
     "output_type": "execute_result"
    }
   ],
   "source": [
    "train_data.shape"
   ]
  },
  {
   "cell_type": "code",
   "execution_count": 14,
   "id": "cf3f33b9",
   "metadata": {},
   "outputs": [
    {
     "data": {
      "text/plain": [
       "(611, 1)"
      ]
     },
     "execution_count": 14,
     "metadata": {},
     "output_type": "execute_result"
    }
   ],
   "source": [
    "test_data.shape"
   ]
  },
  {
   "cell_type": "markdown",
   "id": "99139e2a",
   "metadata": {},
   "source": [
    "# Convert array values into matrix"
   ]
  },
  {
   "cell_type": "code",
   "execution_count": 15,
   "id": "bcc62910",
   "metadata": {},
   "outputs": [],
   "source": [
    "def create_dataset (dataset, time_step=1):\n",
    "    dataX,dataY =[],[]\n",
    "    for i in range(len(dataset)-time_step-1):\n",
    "        a = dataset[i:(i+time_step),0]\n",
    "        dataX.append(a)\n",
    "        dataY.append(dataset[i+time_step,0])\n",
    "    return np.array(dataX),np.array(dataY)    "
   ]
  },
  {
   "cell_type": "markdown",
   "id": "0a6a3a3c",
   "metadata": {},
   "source": [
    " # reshaping the data"
   ]
  },
  {
   "cell_type": "code",
   "execution_count": 16,
   "id": "1cad5a23",
   "metadata": {},
   "outputs": [],
   "source": [
    "time_step =100\n",
    "X_train,y_train = create_dataset(train_data,time_step)\n",
    "X_test,y_test = create_dataset(test_data,time_step)"
   ]
  },
  {
   "cell_type": "code",
   "execution_count": 17,
   "id": "9393e89d",
   "metadata": {},
   "outputs": [
    {
     "name": "stdout",
     "output_type": "stream",
     "text": [
      "(1323, 100)\n",
      "(1323,)\n"
     ]
    },
    {
     "data": {
      "text/plain": [
       "(None, None)"
      ]
     },
     "execution_count": 17,
     "metadata": {},
     "output_type": "execute_result"
    }
   ],
   "source": [
    "print(X_train.shape), print(y_train.shape)"
   ]
  },
  {
   "cell_type": "code",
   "execution_count": 18,
   "id": "d7f5dee9",
   "metadata": {},
   "outputs": [],
   "source": [
    "X_train = X_train.reshape(X_train.shape[0],X_train.shape[1],1)\n",
    "X_test = X_test.reshape(X_test.shape[0],X_test.shape[1],1)\n"
   ]
  },
  {
   "cell_type": "code",
   "execution_count": 19,
   "id": "5822e003",
   "metadata": {},
   "outputs": [
    {
     "data": {
      "text/plain": [
       "array([[[0.16584967],\n",
       "        [0.16319444],\n",
       "        [0.1621732 ],\n",
       "        ...,\n",
       "        [0.14011438],\n",
       "        [0.13848039],\n",
       "        [0.12479575]],\n",
       "\n",
       "       [[0.16319444],\n",
       "        [0.1621732 ],\n",
       "        [0.14971405],\n",
       "        ...,\n",
       "        [0.13848039],\n",
       "        [0.12479575],\n",
       "        [0.12254902]],\n",
       "\n",
       "       [[0.1621732 ],\n",
       "        [0.14971405],\n",
       "        [0.15400327],\n",
       "        ...,\n",
       "        [0.12479575],\n",
       "        [0.12254902],\n",
       "        [0.13010621]],\n",
       "\n",
       "       ...,\n",
       "\n",
       "       [[0.18280229],\n",
       "        [0.19178922],\n",
       "        [0.19219771],\n",
       "        ...,\n",
       "        [0.16441993],\n",
       "        [0.15236928],\n",
       "        [0.15482026]],\n",
       "\n",
       "       [[0.19178922],\n",
       "        [0.19219771],\n",
       "        [0.19281046],\n",
       "        ...,\n",
       "        [0.15236928],\n",
       "        [0.15482026],\n",
       "        [0.15420752]],\n",
       "\n",
       "       [[0.19219771],\n",
       "        [0.19281046],\n",
       "        [0.21058007],\n",
       "        ...,\n",
       "        [0.15482026],\n",
       "        [0.15420752],\n",
       "        [0.15012255]]])"
      ]
     },
     "execution_count": 19,
     "metadata": {},
     "output_type": "execute_result"
    }
   ],
   "source": [
    "X_train"
   ]
  },
  {
   "cell_type": "code",
   "execution_count": 20,
   "id": "236705d1",
   "metadata": {},
   "outputs": [
    {
     "data": {
      "text/plain": [
       "array([[[0.1621732 ],\n",
       "        [0.15951797],\n",
       "        [0.16707516],\n",
       "        ...,\n",
       "        [0.24775327],\n",
       "        [0.24836601],\n",
       "        [0.25020425]],\n",
       "\n",
       "       [[0.15951797],\n",
       "        [0.16707516],\n",
       "        [0.15992647],\n",
       "        ...,\n",
       "        [0.24836601],\n",
       "        [0.25020425],\n",
       "        [0.25020425]],\n",
       "\n",
       "       [[0.16707516],\n",
       "        [0.15992647],\n",
       "        [0.16053922],\n",
       "        ...,\n",
       "        [0.25020425],\n",
       "        [0.25020425],\n",
       "        [0.23999183]],\n",
       "\n",
       "       ...,\n",
       "\n",
       "       [[0.86519608],\n",
       "        [0.84027778],\n",
       "        [0.84497549],\n",
       "        ...,\n",
       "        [0.62888072],\n",
       "        [0.62765523],\n",
       "        [0.62234477]],\n",
       "\n",
       "       [[0.84027778],\n",
       "        [0.84497549],\n",
       "        [0.87111928],\n",
       "        ...,\n",
       "        [0.62765523],\n",
       "        [0.62234477],\n",
       "        [0.63378268]],\n",
       "\n",
       "       [[0.84497549],\n",
       "        [0.87111928],\n",
       "        [0.85273693],\n",
       "        ...,\n",
       "        [0.62234477],\n",
       "        [0.63378268],\n",
       "        [0.62622549]]])"
      ]
     },
     "execution_count": 20,
     "metadata": {},
     "output_type": "execute_result"
    }
   ],
   "source": [
    "X_test"
   ]
  },
  {
   "cell_type": "markdown",
   "id": "ebe0ff7f",
   "metadata": {},
   "source": [
    "# create stacked LSTM model"
   ]
  },
  {
   "cell_type": "code",
   "execution_count": 22,
   "id": "53c715fc",
   "metadata": {},
   "outputs": [],
   "source": [
    "from tensorflow.keras.models import Sequential\n",
    "from tensorflow.keras.layers import Dense\n",
    "from tensorflow.keras.layers import LSTM"
   ]
  },
  {
   "cell_type": "code",
   "execution_count": 23,
   "id": "2fc78524",
   "metadata": {},
   "outputs": [],
   "source": [
    "model= Sequential()\n",
    "model.add(LSTM(50,return_sequences=True,input_shape=(100,1)))\n",
    "model.add(LSTM(50,return_sequences=True))\n",
    "model.add(LSTM(50))\n",
    "model.add(Dense(1))\n",
    "model.compile(loss='mean_squared_error',optimizer='adam')\n"
   ]
  },
  {
   "cell_type": "code",
   "execution_count": 24,
   "id": "7f505cf2",
   "metadata": {},
   "outputs": [
    {
     "name": "stdout",
     "output_type": "stream",
     "text": [
      "Model: \"sequential\"\n",
      "_________________________________________________________________\n",
      " Layer (type)                Output Shape              Param #   \n",
      "=================================================================\n",
      " lstm (LSTM)                 (None, 100, 50)           10400     \n",
      "                                                                 \n",
      " lstm_1 (LSTM)               (None, 100, 50)           20200     \n",
      "                                                                 \n",
      " lstm_2 (LSTM)               (None, 50)                20200     \n",
      "                                                                 \n",
      " dense (Dense)               (None, 1)                 51        \n",
      "                                                                 \n",
      "=================================================================\n",
      "Total params: 50851 (198.64 KB)\n",
      "Trainable params: 50851 (198.64 KB)\n",
      "Non-trainable params: 0 (0.00 Byte)\n",
      "_________________________________________________________________\n"
     ]
    }
   ],
   "source": [
    "model.summary()"
   ]
  },
  {
   "cell_type": "markdown",
   "id": "00fe7ff2",
   "metadata": {},
   "source": [
    "# Prediction and performance checking"
   ]
  },
  {
   "cell_type": "code",
   "execution_count": 27,
   "id": "a91b475b",
   "metadata": {},
   "outputs": [
    {
     "name": "stdout",
     "output_type": "stream",
     "text": [
      "Epoch 1/60\n",
      "19/19 [==============================] - 67s 437ms/step - loss: 0.0146 - val_loss: 0.0013\n",
      "Epoch 2/60\n",
      "19/19 [==============================] - 5s 236ms/step - loss: 0.0023 - val_loss: 0.0013\n",
      "Epoch 3/60\n",
      "19/19 [==============================] - 4s 217ms/step - loss: 0.0010 - val_loss: 0.0013\n",
      "Epoch 4/60\n",
      "19/19 [==============================] - 4s 209ms/step - loss: 8.7543e-04 - val_loss: 0.0012\n",
      "Epoch 5/60\n",
      "19/19 [==============================] - 4s 216ms/step - loss: 8.5612e-04 - val_loss: 0.0012\n",
      "Epoch 6/60\n",
      "19/19 [==============================] - 4s 212ms/step - loss: 8.3954e-04 - val_loss: 0.0011\n",
      "Epoch 7/60\n",
      "19/19 [==============================] - 4s 210ms/step - loss: 8.0080e-04 - val_loss: 0.0011\n",
      "Epoch 8/60\n",
      "19/19 [==============================] - 4s 211ms/step - loss: 8.0153e-04 - val_loss: 0.0010\n",
      "Epoch 9/60\n",
      "19/19 [==============================] - 4s 214ms/step - loss: 7.5196e-04 - val_loss: 9.7156e-04\n",
      "Epoch 10/60\n",
      "19/19 [==============================] - 5s 238ms/step - loss: 7.2958e-04 - val_loss: 9.4078e-04\n",
      "Epoch 11/60\n",
      "19/19 [==============================] - 4s 216ms/step - loss: 7.3695e-04 - val_loss: 0.0010\n",
      "Epoch 12/60\n",
      "19/19 [==============================] - 4s 211ms/step - loss: 6.8746e-04 - val_loss: 8.3362e-04\n",
      "Epoch 13/60\n",
      "19/19 [==============================] - 4s 212ms/step - loss: 6.4657e-04 - val_loss: 8.3852e-04\n",
      "Epoch 14/60\n",
      "19/19 [==============================] - 4s 211ms/step - loss: 6.3714e-04 - val_loss: 7.4458e-04\n",
      "Epoch 15/60\n",
      "19/19 [==============================] - 4s 212ms/step - loss: 6.3616e-04 - val_loss: 7.3533e-04\n",
      "Epoch 16/60\n",
      "19/19 [==============================] - 4s 214ms/step - loss: 6.3694e-04 - val_loss: 6.9549e-04\n",
      "Epoch 17/60\n",
      "19/19 [==============================] - 4s 219ms/step - loss: 5.9216e-04 - val_loss: 6.7705e-04\n",
      "Epoch 18/60\n",
      "19/19 [==============================] - 4s 216ms/step - loss: 5.6797e-04 - val_loss: 6.7689e-04\n",
      "Epoch 19/60\n",
      "19/19 [==============================] - 4s 212ms/step - loss: 5.9548e-04 - val_loss: 6.0624e-04\n",
      "Epoch 20/60\n",
      "19/19 [==============================] - 4s 216ms/step - loss: 5.5939e-04 - val_loss: 8.2756e-04\n",
      "Epoch 21/60\n",
      "19/19 [==============================] - 4s 214ms/step - loss: 5.8862e-04 - val_loss: 6.0544e-04\n",
      "Epoch 22/60\n",
      "19/19 [==============================] - 4s 215ms/step - loss: 5.4931e-04 - val_loss: 5.9476e-04\n",
      "Epoch 23/60\n",
      "19/19 [==============================] - 4s 218ms/step - loss: 5.2379e-04 - val_loss: 5.6458e-04\n",
      "Epoch 24/60\n",
      "19/19 [==============================] - 4s 217ms/step - loss: 5.4529e-04 - val_loss: 7.6398e-04\n",
      "Epoch 25/60\n",
      "19/19 [==============================] - 4s 218ms/step - loss: 5.2057e-04 - val_loss: 5.2090e-04\n",
      "Epoch 26/60\n",
      "19/19 [==============================] - 4s 229ms/step - loss: 4.8409e-04 - val_loss: 5.3628e-04\n",
      "Epoch 27/60\n",
      "19/19 [==============================] - 4s 226ms/step - loss: 4.7776e-04 - val_loss: 6.2396e-04\n",
      "Epoch 28/60\n",
      "19/19 [==============================] - 4s 221ms/step - loss: 5.2193e-04 - val_loss: 4.8046e-04\n",
      "Epoch 29/60\n",
      "19/19 [==============================] - 4s 215ms/step - loss: 4.4018e-04 - val_loss: 4.7762e-04\n",
      "Epoch 30/60\n",
      "19/19 [==============================] - 4s 218ms/step - loss: 4.2993e-04 - val_loss: 4.4342e-04\n",
      "Epoch 31/60\n",
      "19/19 [==============================] - 4s 216ms/step - loss: 4.4744e-04 - val_loss: 4.5252e-04\n",
      "Epoch 32/60\n",
      "19/19 [==============================] - 4s 217ms/step - loss: 4.3163e-04 - val_loss: 4.9268e-04\n",
      "Epoch 33/60\n",
      "19/19 [==============================] - 4s 216ms/step - loss: 4.0948e-04 - val_loss: 4.4982e-04\n",
      "Epoch 34/60\n",
      "19/19 [==============================] - 4s 220ms/step - loss: 4.0711e-04 - val_loss: 3.8588e-04\n",
      "Epoch 35/60\n",
      "19/19 [==============================] - 4s 217ms/step - loss: 3.9734e-04 - val_loss: 3.7838e-04\n",
      "Epoch 36/60\n",
      "19/19 [==============================] - 4s 218ms/step - loss: 3.7889e-04 - val_loss: 3.7463e-04\n",
      "Epoch 37/60\n",
      "19/19 [==============================] - 4s 219ms/step - loss: 3.7874e-04 - val_loss: 3.6499e-04\n",
      "Epoch 38/60\n",
      "19/19 [==============================] - 4s 221ms/step - loss: 3.5879e-04 - val_loss: 3.4908e-04\n",
      "Epoch 39/60\n",
      "19/19 [==============================] - 4s 219ms/step - loss: 3.5935e-04 - val_loss: 3.5050e-04\n",
      "Epoch 40/60\n",
      "19/19 [==============================] - 4s 217ms/step - loss: 3.4139e-04 - val_loss: 3.2723e-04\n",
      "Epoch 41/60\n",
      "19/19 [==============================] - 4s 219ms/step - loss: 3.2627e-04 - val_loss: 3.4246e-04\n",
      "Epoch 42/60\n",
      "19/19 [==============================] - 4s 220ms/step - loss: 3.1634e-04 - val_loss: 3.0805e-04\n",
      "Epoch 43/60\n",
      "19/19 [==============================] - 4s 217ms/step - loss: 3.0527e-04 - val_loss: 2.9198e-04\n",
      "Epoch 44/60\n",
      "19/19 [==============================] - 4s 218ms/step - loss: 2.9880e-04 - val_loss: 3.9145e-04\n",
      "Epoch 45/60\n",
      "19/19 [==============================] - 4s 218ms/step - loss: 3.1848e-04 - val_loss: 3.8802e-04\n",
      "Epoch 46/60\n",
      "19/19 [==============================] - 4s 221ms/step - loss: 3.1259e-04 - val_loss: 2.5312e-04\n",
      "Epoch 47/60\n",
      "19/19 [==============================] - 4s 219ms/step - loss: 2.7939e-04 - val_loss: 2.5611e-04\n",
      "Epoch 48/60\n",
      "19/19 [==============================] - 4s 225ms/step - loss: 2.7259e-04 - val_loss: 2.3842e-04\n",
      "Epoch 49/60\n",
      "19/19 [==============================] - 4s 219ms/step - loss: 2.7788e-04 - val_loss: 3.0609e-04\n",
      "Epoch 50/60\n",
      "19/19 [==============================] - 4s 218ms/step - loss: 2.6011e-04 - val_loss: 2.2009e-04\n",
      "Epoch 51/60\n",
      "19/19 [==============================] - 4s 220ms/step - loss: 2.4003e-04 - val_loss: 2.3850e-04\n",
      "Epoch 52/60\n",
      "19/19 [==============================] - 4s 219ms/step - loss: 2.4504e-04 - val_loss: 2.1032e-04\n",
      "Epoch 53/60\n",
      "19/19 [==============================] - 4s 226ms/step - loss: 2.3583e-04 - val_loss: 2.7098e-04\n",
      "Epoch 54/60\n",
      "19/19 [==============================] - 4s 215ms/step - loss: 2.6414e-04 - val_loss: 2.1710e-04\n",
      "Epoch 55/60\n",
      "19/19 [==============================] - 4s 229ms/step - loss: 2.4844e-04 - val_loss: 1.9537e-04\n",
      "Epoch 56/60\n",
      "19/19 [==============================] - 4s 218ms/step - loss: 2.2312e-04 - val_loss: 1.8981e-04\n",
      "Epoch 57/60\n",
      "19/19 [==============================] - 4s 214ms/step - loss: 2.1571e-04 - val_loss: 1.8563e-04\n",
      "Epoch 58/60\n",
      "19/19 [==============================] - 4s 221ms/step - loss: 2.2434e-04 - val_loss: 1.8597e-04\n",
      "Epoch 59/60\n",
      "19/19 [==============================] - 4s 224ms/step - loss: 2.0994e-04 - val_loss: 1.7672e-04\n",
      "Epoch 60/60\n",
      "19/19 [==============================] - 4s 226ms/step - loss: 2.0806e-04 - val_loss: 1.7042e-04\n"
     ]
    },
    {
     "data": {
      "text/plain": [
       "<keras.src.callbacks.History at 0x238f20dd3c0>"
      ]
     },
     "execution_count": 27,
     "metadata": {},
     "output_type": "execute_result"
    }
   ],
   "source": [
    "model.fit(X_train,y_train,validation_split=0.1 , epochs=60,batch_size=64,verbose=1)"
   ]
  },
  {
   "cell_type": "code",
   "execution_count": 28,
   "id": "1a036ef1",
   "metadata": {},
   "outputs": [
    {
     "name": "stdout",
     "output_type": "stream",
     "text": [
      "42/42 [==============================] - 5s 56ms/step\n",
      "16/16 [==============================] - 1s 53ms/step\n"
     ]
    }
   ],
   "source": [
    "train_predict = model.predict(X_train)\n",
    "test_predict = model.predict (X_test)"
   ]
  },
  {
   "cell_type": "code",
   "execution_count": 29,
   "id": "974eecab",
   "metadata": {},
   "outputs": [],
   "source": [
    "train_predict = scaler.inverse_transform(train_predict)\n",
    "test_predict = scaler.inverse_transform(test_predict)\n"
   ]
  },
  {
   "cell_type": "markdown",
   "id": "c69be51c",
   "metadata": {},
   "source": [
    "# Calculating the performance "
   ]
  },
  {
   "cell_type": "code",
   "execution_count": 30,
   "id": "804fbab2",
   "metadata": {},
   "outputs": [],
   "source": [
    "import math\n",
    "from sklearn.metrics import mean_squared_error"
   ]
  },
  {
   "cell_type": "code",
   "execution_count": 33,
   "id": "924076a3",
   "metadata": {},
   "outputs": [
    {
     "data": {
      "text/plain": [
       "133.44016764373305"
      ]
     },
     "execution_count": 33,
     "metadata": {},
     "output_type": "execute_result"
    }
   ],
   "source": [
    "math.sqrt(mean_squared_error(y_train,train_predict))\n"
   ]
  },
  {
   "cell_type": "code",
   "execution_count": 34,
   "id": "52e9ede0",
   "metadata": {},
   "outputs": [
    {
     "data": {
      "text/plain": [
       "205.34419766625123"
      ]
     },
     "execution_count": 34,
     "metadata": {},
     "output_type": "execute_result"
    }
   ],
   "source": [
    "math.sqrt(mean_squared_error(y_test,test_predict))"
   ]
  },
  {
   "cell_type": "markdown",
   "id": "7950fdc9",
   "metadata": {},
   "source": [
    "# Graph with train and test data with actual data"
   ]
  },
  {
   "cell_type": "code",
   "execution_count": 36,
   "id": "ff4c5a96",
   "metadata": {},
   "outputs": [
    {
     "data": {
      "image/png": "[encoded data removed]",
      "text/plain": [
       "<Figure size 1000x700 with 1 Axes>"
      ]
     },
     "metadata": {},
     "output_type": "display_data"
    }
   ],
   "source": [
    "look_back=100\n",
    "#train\n",
    "trainPredictPlot = np.empty_like(Close_srt)\n",
    "trainPredictPlot[:,:] = np.nan\n",
    "trainPredictPlot[look_back:len(train_predict)+look_back,:] = train_predict\n",
    "#test\n",
    "testPredictPlot = np.empty_like(Close_srt)\n",
    "testPredictPlot[:,:] = np.nan\n",
    "testPredictPlot[len(train_predict)+(look_back)*2+1:len(Close_srt)-1,:] = test_predict\n",
    "#plot baseline and predictions\n",
    "plt.figure(figsize=(10,7))\n",
    "plt.plot(scaler.inverse_transform(Close_srt))\n",
    "plt.plot(trainPredictPlot)\n",
    "plt.plot(testPredictPlot)\n",
    "plt.show()"
   ]
  },
  {
   "cell_type": "markdown",
   "id": "c7bc5d21",
   "metadata": {},
   "source": [
    "# Prediction for next 30 days"
   ]
  },
  {
   "cell_type": "code",
   "execution_count": 37,
   "id": "9db79875",
   "metadata": {},
   "outputs": [
    {
     "data": {
      "text/plain": [
       "611"
      ]
     },
     "execution_count": 37,
     "metadata": {},
     "output_type": "execute_result"
    }
   ],
   "source": [
    "len(test_data)\n"
   ]
  },
  {
   "cell_type": "code",
   "execution_count": 38,
   "id": "76056d9a",
   "metadata": {},
   "outputs": [
    {
     "data": {
      "text/plain": [
       "(1, 100)"
      ]
     },
     "execution_count": 38,
     "metadata": {},
     "output_type": "execute_result"
    }
   ],
   "source": [
    "pred_input=test_data[511:].reshape(1,-1)\n",
    "pred_input.shape"
   ]
  },
  {
   "cell_type": "code",
   "execution_count": 39,
   "id": "83ee1609",
   "metadata": {},
   "outputs": [],
   "source": [
    "temp_input=list(pred_input)\n",
    "temp_input=temp_input[0].tolist()\n"
   ]
  },
  {
   "cell_type": "code",
   "execution_count": 40,
   "id": "d36d4e57",
   "metadata": {},
   "outputs": [
    {
     "data": {
      "text/plain": [
       "[0.8527369281045751,\n",
       " 0.8621323529411764,\n",
       " 0.8345588235294117,\n",
       " 0.84375,\n",
       " 0.7146650326797386,\n",
       " 0.6605392156862745,\n",
       " 0.6542075163398693,\n",
       " 0.6803513071895424,\n",
       " 0.6689133986928104,\n",
       " 0.6642156862745099,\n",
       " 0.678921568627451,\n",
       " 0.6913807189542482,\n",
       " 0.7089460784313726,\n",
       " 0.7226307189542485,\n",
       " 0.7340686274509802,\n",
       " 0.7212009803921569,\n",
       " 0.749795751633987,\n",
       " 0.7689950980392157,\n",
       " 0.7446895424836601,\n",
       " 0.7120098039215685,\n",
       " 0.7467320261437909,\n",
       " 0.7549019607843137,\n",
       " 0.7604166666666667,\n",
       " 0.7598039215686274,\n",
       " 0.7465277777777777,\n",
       " 0.7624591503267975,\n",
       " 0.7706290849673203,\n",
       " 0.8041258169934642,\n",
       " 0.7810457516339868,\n",
       " 0.7941176470588236,\n",
       " 0.7602124183006536,\n",
       " 0.7348856209150327,\n",
       " 0.7240604575163399,\n",
       " 0.7399918300653596,\n",
       " 0.749795751633987,\n",
       " 0.7614379084967322,\n",
       " 0.7542892156862746,\n",
       " 0.7475490196078431,\n",
       " 0.769607843137255,\n",
       " 0.7495915032679739,\n",
       " 0.8171977124183007,\n",
       " 0.8020833333333335,\n",
       " 0.7773692810457518,\n",
       " 0.7571486928104576,\n",
       " 0.7937091503267975,\n",
       " 0.7916666666666667,\n",
       " 0.7714460784313726,\n",
       " 0.7526552287581698,\n",
       " 0.7269199346405228,\n",
       " 0.6629901960784313,\n",
       " 0.6819852941176472,\n",
       " 0.6441993464052288,\n",
       " 0.6215277777777778,\n",
       " 0.6439950980392156,\n",
       " 0.6631944444444445,\n",
       " 0.6754493464052289,\n",
       " 0.6370506535947713,\n",
       " 0.6460375816993464,\n",
       " 0.6589052287581699,\n",
       " 0.6587009803921569,\n",
       " 0.6779003267973858,\n",
       " 0.6319444444444445,\n",
       " 0.6311274509803921,\n",
       " 0.627859477124183,\n",
       " 0.647671568627451,\n",
       " 0.6399101307189542,\n",
       " 0.6348039215686274,\n",
       " 0.6386846405228759,\n",
       " 0.6233660130718954,\n",
       " 0.627450980392157,\n",
       " 0.6397058823529412,\n",
       " 0.6470588235294118,\n",
       " 0.661968954248366,\n",
       " 0.6707516339869282,\n",
       " 0.6519607843137255,\n",
       " 0.6311274509803921,\n",
       " 0.6129493464052288,\n",
       " 0.6376633986928105,\n",
       " 0.6225490196078431,\n",
       " 0.627450980392157,\n",
       " 0.6333741830065359,\n",
       " 0.6264297385620916,\n",
       " 0.6362336601307189,\n",
       " 0.5831290849673202,\n",
       " 0.5778186274509804,\n",
       " 0.5723039215686275,\n",
       " 0.5800653594771241,\n",
       " 0.5761846405228758,\n",
       " 0.5516748366013072,\n",
       " 0.5788398692810458,\n",
       " 0.625,\n",
       " 0.6358251633986928,\n",
       " 0.6294934640522877,\n",
       " 0.6288807189542484,\n",
       " 0.6276552287581699,\n",
       " 0.6223447712418301,\n",
       " 0.6337826797385621,\n",
       " 0.6262254901960784,\n",
       " 0.622140522875817,\n",
       " 0.6241830065359477]"
      ]
     },
     "execution_count": 40,
     "metadata": {},
     "output_type": "execute_result"
    }
   ],
   "source": [
    "temp_input\n"
   ]
  },
  {
   "cell_type": "code",
   "execution_count": 61,
   "id": "a74939fb",
   "metadata": {},
   "outputs": [
    {
     "name": "stdout",
     "output_type": "stream",
     "text": [
      "[[0.5098309516906738], [0.48778024315834045], [0.46947944164276123], [0.4543788433074951], [0.4418482780456543], [0.4312576353549957], [0.4220360815525055], [0.4137158989906311], [0.4059534966945648], [0.39852699637413025], [0.39131960272789], [0.3842943012714386], [0.3774668872356415], [0.37088072299957275], [0.36458706855773926], [0.35863053798675537], [0.3530418276786804], [0.34783434867858887], [0.3430050313472748], [0.3385377526283264], [0.3344065845012665], [0.33058077096939087], [0.32702770829200745], [0.32371610403060913], [0.3206173777580261], [0.31770679354667664], [0.3149639070034027], [0.3123719096183777], [0.30991730093955994], [0.3075892925262451]]\n"
     ]
    }
   ],
   "source": [
    "lst_output = []  # predicted 30 days output\n",
    "n_steps = 100\n",
    "i = 0\n",
    "while i < 30:\n",
    "    if len(temp_input) > n_steps:\n",
    "        pred_input = np.array(temp_input[-n_steps:])  # Use the last n_steps elements\n",
    "        pred_input = pred_input.reshape((1, n_steps, 1))\n",
    "        yhat = model.predict(pred_input, verbose=0)\n",
    "        temp_input.extend(yhat[0].tolist())\n",
    "        lst_output.extend(yhat.tolist())\n",
    "        i += 1\n",
    "    else:\n",
    "        pred_input = np.array(temp_input)\n",
    "        pred_input = pred_input.reshape((1, len(pred_input), 1))\n",
    "        yhat = model.predict(pred_input, verbose=0)\n",
    "        temp_input.extend(yhat[0].tolist())\n",
    "        lst_output.extend(yhat.tolist())\n",
    "        i += 1\n",
    "        \n",
    "print(lst_output)\n"
   ]
  },
  {
   "cell_type": "code",
   "execution_count": 63,
   "id": "84bcaf41",
   "metadata": {},
   "outputs": [],
   "source": [
    "day_new = np.arange(1,101)\n",
    "day_pred = np.arange(101,131)"
   ]
  },
  {
   "cell_type": "code",
   "execution_count": 64,
   "id": "c74b9e37",
   "metadata": {},
   "outputs": [
    {
     "data": {
      "text/plain": [
       "2035"
      ]
     },
     "execution_count": 64,
     "metadata": {},
     "output_type": "execute_result"
    }
   ],
   "source": [
    "len(Close_srt)"
   ]
  },
  {
   "cell_type": "code",
   "execution_count": 67,
   "id": "19aec389",
   "metadata": {},
   "outputs": [
    {
     "data": {
      "text/plain": [
       "[<matplotlib.lines.Line2D at 0x2388426ef50>]"
      ]
     },
     "execution_count": 67,
     "metadata": {},
     "output_type": "execute_result"
    },
    {
     "data": {
      "image/png": "[encoded data removed]",
      "text/plain": [
       "<Figure size 1000x700 with 1 Axes>"
      ]
     },
     "metadata": {},
     "output_type": "display_data"
    }
   ],
   "source": [
    "plt.figure(figsize=(10,7))\n",
    "plt.plot(day_new,scaler.inverse_transform(Close_srt[1935:]))\n",
    "plt.plot(day_pred,scaler.inverse_transform(lst_output))\n"
   ]
  },
  {
   "cell_type": "markdown",
   "id": "6e22a763",
   "metadata": {},
   "source": [
    "# continous graph"
   ]
  },
  {
   "cell_type": "code",
   "execution_count": 68,
   "id": "25cbc00d",
   "metadata": {},
   "outputs": [],
   "source": [
    "df3=Close_srt.tolist()\n",
    "df3.extend(lst_output)"
   ]
  },
  {
   "cell_type": "code",
   "execution_count": 69,
   "id": "ba63242d",
   "metadata": {},
   "outputs": [
    {
     "name": "stdout",
     "output_type": "stream",
     "text": [
      "2065\n"
     ]
    }
   ],
   "source": [
    "print(len(df3))"
   ]
  },
  {
   "cell_type": "code",
   "execution_count": 70,
   "id": "29949d26",
   "metadata": {},
   "outputs": [
    {
     "data": {
      "text/plain": [
       "[<matplotlib.lines.Line2D at 0x2388430cd60>]"
      ]
     },
     "execution_count": 70,
     "metadata": {},
     "output_type": "execute_result"
    },
    {
     "data": {
      "image/png": "[encoded data removed]",
      "text/plain": [
       "<Figure size 1000x700 with 1 Axes>"
      ]
     },
     "metadata": {},
     "output_type": "display_data"
    }
   ],
   "source": [
    "plt.figure(figsize=(10,7))\n",
    "plt.plot(df3[1935:])"
   ]
  },
  {
   "cell_type": "markdown",
   "id": "036edb68",
   "metadata": {},
   "source": [
    "# plotting the graph with predicted 30 days output"
   ]
  },
  {
   "cell_type": "code",
   "execution_count": 71,
   "id": "4b2f6166",
   "metadata": {},
   "outputs": [],
   "source": [
    "df3=scaler.inverse_transform(df3).tolist()\n"
   ]
  },
  {
   "cell_type": "code",
   "execution_count": 72,
   "id": "483c6497",
   "metadata": {},
   "outputs": [
    {
     "data": {
      "text/plain": [
       "[<matplotlib.lines.Line2D at 0x238842c63b0>]"
      ]
     },
     "execution_count": 72,
     "metadata": {},
     "output_type": "execute_result"
    },
    {
     "data": {
      "image/png": "[encoded data removed]",
      "text/plain": [
       "<Figure size 1000x700 with 1 Axes>"
      ]
     },
     "metadata": {},
     "output_type": "display_data"
    }
   ],
   "source": [
    "plt.figure(figsize=(10,7))\n",
    "plt.plot(df3)"
   ]
  },
  {
   "cell_type": "code",
   "execution_count": null,
   "id": "9959f3dd",
   "metadata": {},
   "outputs": [],
   "source": []
  }
 ],
 "metadata": {
  "kernelspec": {
   "display_name": "Python 3 (ipykernel)",
   "language": "python",
   "name": "python3"
  },
  "language_info": {
   "codemirror_mode": {
    "name": "ipython",
    "version": 3
   },
   "file_extension": ".py",
   "mimetype": "text/x-python",
   "name": "python",
   "nbconvert_exporter": "python",
   "pygments_lexer": "ipython3",
   "version": "3.10.9"
  }
 },
 "nbformat": 4,
 "nbformat_minor": 5
}
